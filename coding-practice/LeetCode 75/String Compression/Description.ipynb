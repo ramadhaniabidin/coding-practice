{
 "cells": [
  {
   "cell_type": "markdown",
   "metadata": {},
   "source": [
    "Given an array of characters ```chars```, compress it using the following algorithm:<br><br>\n",
    "Begin with an empty string ```s```. For each group of **consecutive repeating characters in** ```chars```:<br><br>\n",
    "* If the group's length is `1`, append the character to `s`.<br>\n",
    "* Otherwise, append the character followed by the group's length.\n",
    "\n",
    "The compressed string `s` **should not be returned separately**, but instead, be stored **in the input character array** `chars`. Note that group lengths that are `10` or longer will be split into multiple characters in `chars`.<br>\n",
    "\n",
    "After you are done **modifying the input array**, return *the new length of the array*.<br>\n",
    "\n",
    "You must write an algorithm that uses only constant extra space.<br><br>\n",
    "\n",
    "**Example 1:**<br>\n",
    "> **Input:** chars = [\"a\",\"a\",\"b\",\"b\",\"c\",\"c\",\"c\"] <br><br>\n",
    "> **Output**: Return 6, and the first 6 characters of the input array should be: [\"a\",\"2\",\"b\",\"2\",\"c\",\"3\"] <br><br>\n",
    "> **Explanation**: The groups are \"aa\", \"bb\", and \"ccc\". This compresses to \"a2b2c3\".\n",
    "\n",
    "**Example 2:**<br>\n",
    "> **Input:** chars = [\"a\"] <br><br>\n",
    "> **Output**: Return 1, and the first character of the input array should be: [\"a\"] <br><br>\n",
    "> **Explanation**: The only group is \"a\", which remains uncompressed since it's a single character.\n",
    "\n",
    "**Example 3:**<br>\n",
    "> **Input:** chars = [\"a\",\"b\",\"b\",\"b\",\"b\",\"b\",\"b\",\"b\",\"b\",\"b\",\"b\",\"b\",\"b\"] <br><br>\n",
    "> **Output**: Return 4, and the first 4 characters of the input array should be: [\"a\",\"b\",\"1\",\"2\"]. <br><br>\n",
    "> **Explanation**: The groups are \"a\" and \"bbbbbbbbbbbb\". This compresses to \"ab12\"."
   ]
  },
  {
   "cell_type": "markdown",
   "metadata": {},
   "source": []
  }
 ],
 "metadata": {
  "language_info": {
   "name": "python"
  }
 },
 "nbformat": 4,
 "nbformat_minor": 2
}
